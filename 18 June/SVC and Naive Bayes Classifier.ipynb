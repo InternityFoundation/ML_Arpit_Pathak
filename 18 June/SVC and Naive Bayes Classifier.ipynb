{
 "cells": [
  {
   "cell_type": "code",
   "execution_count": 1,
   "metadata": {},
   "outputs": [],
   "source": [
    "import pandas as pd\n",
    "import numpy as np"
   ]
  },
  {
   "cell_type": "code",
   "execution_count": 2,
   "metadata": {},
   "outputs": [
    {
     "data": {
      "text/html": [
       "<div>\n",
       "<style scoped>\n",
       "    .dataframe tbody tr th:only-of-type {\n",
       "        vertical-align: middle;\n",
       "    }\n",
       "\n",
       "    .dataframe tbody tr th {\n",
       "        vertical-align: top;\n",
       "    }\n",
       "\n",
       "    .dataframe thead th {\n",
       "        text-align: right;\n",
       "    }\n",
       "</style>\n",
       "<table border=\"1\" class=\"dataframe\">\n",
       "  <thead>\n",
       "    <tr style=\"text-align: right;\">\n",
       "      <th></th>\n",
       "      <th>Sno</th>\n",
       "      <th>age</th>\n",
       "      <th>gender</th>\n",
       "      <th>body temperature</th>\n",
       "      <th>Dry Cough</th>\n",
       "      <th>sour throat</th>\n",
       "      <th>weakness</th>\n",
       "      <th>breathing problem</th>\n",
       "      <th>drowsiness</th>\n",
       "      <th>pain in chest</th>\n",
       "      <th>...</th>\n",
       "      <th>diabetes</th>\n",
       "      <th>heart disease</th>\n",
       "      <th>lung disease</th>\n",
       "      <th>stroke or reduced immunity</th>\n",
       "      <th>symptoms progressed</th>\n",
       "      <th>high blood pressue</th>\n",
       "      <th>kidney disease</th>\n",
       "      <th>change in appetide</th>\n",
       "      <th>Loss of sense of smell</th>\n",
       "      <th>Corona result</th>\n",
       "    </tr>\n",
       "  </thead>\n",
       "  <tbody>\n",
       "    <tr>\n",
       "      <th>0</th>\n",
       "      <td>1</td>\n",
       "      <td>20</td>\n",
       "      <td>1</td>\n",
       "      <td>98.6</td>\n",
       "      <td>0</td>\n",
       "      <td>0</td>\n",
       "      <td>0</td>\n",
       "      <td>0</td>\n",
       "      <td>0</td>\n",
       "      <td>0</td>\n",
       "      <td>...</td>\n",
       "      <td>0</td>\n",
       "      <td>0</td>\n",
       "      <td>0</td>\n",
       "      <td>0</td>\n",
       "      <td>0</td>\n",
       "      <td>0</td>\n",
       "      <td>0</td>\n",
       "      <td>0</td>\n",
       "      <td>0</td>\n",
       "      <td>0</td>\n",
       "    </tr>\n",
       "    <tr>\n",
       "      <th>1</th>\n",
       "      <td>2</td>\n",
       "      <td>19</td>\n",
       "      <td>1</td>\n",
       "      <td>99.0</td>\n",
       "      <td>1</td>\n",
       "      <td>0</td>\n",
       "      <td>0</td>\n",
       "      <td>0</td>\n",
       "      <td>0</td>\n",
       "      <td>0</td>\n",
       "      <td>...</td>\n",
       "      <td>0</td>\n",
       "      <td>0</td>\n",
       "      <td>0</td>\n",
       "      <td>0</td>\n",
       "      <td>0</td>\n",
       "      <td>0</td>\n",
       "      <td>0</td>\n",
       "      <td>0</td>\n",
       "      <td>0</td>\n",
       "      <td>0</td>\n",
       "    </tr>\n",
       "    <tr>\n",
       "      <th>2</th>\n",
       "      <td>3</td>\n",
       "      <td>55</td>\n",
       "      <td>0</td>\n",
       "      <td>102.0</td>\n",
       "      <td>1</td>\n",
       "      <td>1</td>\n",
       "      <td>1</td>\n",
       "      <td>1</td>\n",
       "      <td>1</td>\n",
       "      <td>1</td>\n",
       "      <td>...</td>\n",
       "      <td>0</td>\n",
       "      <td>0</td>\n",
       "      <td>0</td>\n",
       "      <td>0</td>\n",
       "      <td>0</td>\n",
       "      <td>0</td>\n",
       "      <td>0</td>\n",
       "      <td>1</td>\n",
       "      <td>0</td>\n",
       "      <td>1</td>\n",
       "    </tr>\n",
       "    <tr>\n",
       "      <th>3</th>\n",
       "      <td>4</td>\n",
       "      <td>40</td>\n",
       "      <td>0</td>\n",
       "      <td>100.0</td>\n",
       "      <td>0</td>\n",
       "      <td>0</td>\n",
       "      <td>0</td>\n",
       "      <td>0</td>\n",
       "      <td>1</td>\n",
       "      <td>1</td>\n",
       "      <td>...</td>\n",
       "      <td>1</td>\n",
       "      <td>0</td>\n",
       "      <td>0</td>\n",
       "      <td>0</td>\n",
       "      <td>1</td>\n",
       "      <td>1</td>\n",
       "      <td>0</td>\n",
       "      <td>1</td>\n",
       "      <td>0</td>\n",
       "      <td>2</td>\n",
       "    </tr>\n",
       "    <tr>\n",
       "      <th>4</th>\n",
       "      <td>5</td>\n",
       "      <td>33</td>\n",
       "      <td>1</td>\n",
       "      <td>99.2</td>\n",
       "      <td>0</td>\n",
       "      <td>1</td>\n",
       "      <td>0</td>\n",
       "      <td>1</td>\n",
       "      <td>0</td>\n",
       "      <td>0</td>\n",
       "      <td>...</td>\n",
       "      <td>0</td>\n",
       "      <td>0</td>\n",
       "      <td>1</td>\n",
       "      <td>1</td>\n",
       "      <td>1</td>\n",
       "      <td>0</td>\n",
       "      <td>0</td>\n",
       "      <td>0</td>\n",
       "      <td>1</td>\n",
       "      <td>2</td>\n",
       "    </tr>\n",
       "  </tbody>\n",
       "</table>\n",
       "<p>5 rows × 21 columns</p>\n",
       "</div>"
      ],
      "text/plain": [
       "   Sno  age  gender  body temperature  Dry Cough  sour throat  weakness  \\\n",
       "0    1   20       1              98.6          0            0         0   \n",
       "1    2   19       1              99.0          1            0         0   \n",
       "2    3   55       0             102.0          1            1         1   \n",
       "3    4   40       0             100.0          0            0         0   \n",
       "4    5   33       1              99.2          0            1         0   \n",
       "\n",
       "   breathing problem  drowsiness  pain in chest  ...  diabetes  heart disease  \\\n",
       "0                  0           0              0  ...         0              0   \n",
       "1                  0           0              0  ...         0              0   \n",
       "2                  1           1              1  ...         0              0   \n",
       "3                  0           1              1  ...         1              0   \n",
       "4                  1           0              0  ...         0              0   \n",
       "\n",
       "   lung disease  stroke or reduced immunity  symptoms progressed  \\\n",
       "0             0                           0                    0   \n",
       "1             0                           0                    0   \n",
       "2             0                           0                    0   \n",
       "3             0                           0                    1   \n",
       "4             1                           1                    1   \n",
       "\n",
       "   high blood pressue  kidney disease  change in appetide  \\\n",
       "0                   0               0                   0   \n",
       "1                   0               0                   0   \n",
       "2                   0               0                   1   \n",
       "3                   1               0                   1   \n",
       "4                   0               0                   0   \n",
       "\n",
       "   Loss of sense of smell  Corona result  \n",
       "0                       0              0  \n",
       "1                       0              0  \n",
       "2                       0              1  \n",
       "3                       0              2  \n",
       "4                       1              2  \n",
       "\n",
       "[5 rows x 21 columns]"
      ]
     },
     "execution_count": 2,
     "metadata": {},
     "output_type": "execute_result"
    }
   ],
   "source": [
    "c19 = pd.read_csv(\"COVID-19.csv\")\n",
    "c19.head()"
   ]
  },
  {
   "cell_type": "code",
   "execution_count": 14,
   "metadata": {},
   "outputs": [
    {
     "data": {
      "text/plain": [
       "(127, 21)"
      ]
     },
     "execution_count": 14,
     "metadata": {},
     "output_type": "execute_result"
    }
   ],
   "source": [
    "c19.shape"
   ]
  },
  {
   "cell_type": "code",
   "execution_count": 3,
   "metadata": {},
   "outputs": [
    {
     "name": "stdout",
     "output_type": "stream",
     "text": [
      "<class 'pandas.core.frame.DataFrame'>\n",
      "RangeIndex: 127 entries, 0 to 126\n",
      "Data columns (total 21 columns):\n",
      " #   Column                                Non-Null Count  Dtype  \n",
      "---  ------                                --------------  -----  \n",
      " 0   Sno                                   127 non-null    int64  \n",
      " 1   age                                   127 non-null    int64  \n",
      " 2   gender                                127 non-null    int64  \n",
      " 3   body temperature                      127 non-null    float64\n",
      " 4   Dry Cough                             127 non-null    int64  \n",
      " 5   sour throat                           127 non-null    int64  \n",
      " 6   weakness                              127 non-null    int64  \n",
      " 7   breathing problem                     127 non-null    int64  \n",
      " 8   drowsiness                            127 non-null    int64  \n",
      " 9   pain in chest                         127 non-null    int64  \n",
      " 10  travel history to infected countries  127 non-null    int64  \n",
      " 11  diabetes                              127 non-null    int64  \n",
      " 12  heart disease                         127 non-null    int64  \n",
      " 13  lung disease                          127 non-null    int64  \n",
      " 14  stroke or reduced immunity            127 non-null    int64  \n",
      " 15  symptoms progressed                   127 non-null    int64  \n",
      " 16  high blood pressue                    127 non-null    int64  \n",
      " 17  kidney disease                        127 non-null    int64  \n",
      " 18  change in appetide                    127 non-null    int64  \n",
      " 19  Loss of sense of smell                127 non-null    int64  \n",
      " 20  Corona result                         127 non-null    int64  \n",
      "dtypes: float64(1), int64(20)\n",
      "memory usage: 21.0 KB\n"
     ]
    }
   ],
   "source": [
    "c19.info()"
   ]
  },
  {
   "cell_type": "code",
   "execution_count": 5,
   "metadata": {},
   "outputs": [
    {
     "data": {
      "text/html": [
       "<div>\n",
       "<style scoped>\n",
       "    .dataframe tbody tr th:only-of-type {\n",
       "        vertical-align: middle;\n",
       "    }\n",
       "\n",
       "    .dataframe tbody tr th {\n",
       "        vertical-align: top;\n",
       "    }\n",
       "\n",
       "    .dataframe thead th {\n",
       "        text-align: right;\n",
       "    }\n",
       "</style>\n",
       "<table border=\"1\" class=\"dataframe\">\n",
       "  <thead>\n",
       "    <tr style=\"text-align: right;\">\n",
       "      <th></th>\n",
       "      <th>Sno</th>\n",
       "      <th>gender</th>\n",
       "      <th>Dry Cough</th>\n",
       "      <th>sour throat</th>\n",
       "      <th>weakness</th>\n",
       "      <th>breathing problem</th>\n",
       "      <th>drowsiness</th>\n",
       "      <th>pain in chest</th>\n",
       "      <th>travel history to infected countries</th>\n",
       "      <th>diabetes</th>\n",
       "      <th>...</th>\n",
       "      <th>lung disease</th>\n",
       "      <th>stroke or reduced immunity</th>\n",
       "      <th>symptoms progressed</th>\n",
       "      <th>high blood pressue</th>\n",
       "      <th>kidney disease</th>\n",
       "      <th>change in appetide</th>\n",
       "      <th>Loss of sense of smell</th>\n",
       "      <th>Corona result</th>\n",
       "      <th>Age</th>\n",
       "      <th>Temp</th>\n",
       "    </tr>\n",
       "  </thead>\n",
       "  <tbody>\n",
       "    <tr>\n",
       "      <th>0</th>\n",
       "      <td>1</td>\n",
       "      <td>1</td>\n",
       "      <td>0</td>\n",
       "      <td>0</td>\n",
       "      <td>0</td>\n",
       "      <td>0</td>\n",
       "      <td>0</td>\n",
       "      <td>0</td>\n",
       "      <td>0</td>\n",
       "      <td>0</td>\n",
       "      <td>...</td>\n",
       "      <td>0</td>\n",
       "      <td>0</td>\n",
       "      <td>0</td>\n",
       "      <td>0</td>\n",
       "      <td>0</td>\n",
       "      <td>0</td>\n",
       "      <td>0</td>\n",
       "      <td>0</td>\n",
       "      <td>Adult</td>\n",
       "      <td>fever</td>\n",
       "    </tr>\n",
       "    <tr>\n",
       "      <th>1</th>\n",
       "      <td>2</td>\n",
       "      <td>1</td>\n",
       "      <td>1</td>\n",
       "      <td>0</td>\n",
       "      <td>0</td>\n",
       "      <td>0</td>\n",
       "      <td>0</td>\n",
       "      <td>0</td>\n",
       "      <td>0</td>\n",
       "      <td>0</td>\n",
       "      <td>...</td>\n",
       "      <td>0</td>\n",
       "      <td>0</td>\n",
       "      <td>0</td>\n",
       "      <td>0</td>\n",
       "      <td>0</td>\n",
       "      <td>0</td>\n",
       "      <td>0</td>\n",
       "      <td>0</td>\n",
       "      <td>Teen</td>\n",
       "      <td>fever</td>\n",
       "    </tr>\n",
       "    <tr>\n",
       "      <th>2</th>\n",
       "      <td>3</td>\n",
       "      <td>0</td>\n",
       "      <td>1</td>\n",
       "      <td>1</td>\n",
       "      <td>1</td>\n",
       "      <td>1</td>\n",
       "      <td>1</td>\n",
       "      <td>1</td>\n",
       "      <td>0</td>\n",
       "      <td>0</td>\n",
       "      <td>...</td>\n",
       "      <td>0</td>\n",
       "      <td>0</td>\n",
       "      <td>0</td>\n",
       "      <td>0</td>\n",
       "      <td>0</td>\n",
       "      <td>1</td>\n",
       "      <td>0</td>\n",
       "      <td>1</td>\n",
       "      <td>Old Age</td>\n",
       "      <td>high fever</td>\n",
       "    </tr>\n",
       "    <tr>\n",
       "      <th>3</th>\n",
       "      <td>4</td>\n",
       "      <td>0</td>\n",
       "      <td>0</td>\n",
       "      <td>0</td>\n",
       "      <td>0</td>\n",
       "      <td>0</td>\n",
       "      <td>1</td>\n",
       "      <td>1</td>\n",
       "      <td>1</td>\n",
       "      <td>1</td>\n",
       "      <td>...</td>\n",
       "      <td>0</td>\n",
       "      <td>0</td>\n",
       "      <td>1</td>\n",
       "      <td>1</td>\n",
       "      <td>0</td>\n",
       "      <td>1</td>\n",
       "      <td>0</td>\n",
       "      <td>2</td>\n",
       "      <td>Adult</td>\n",
       "      <td>fever</td>\n",
       "    </tr>\n",
       "    <tr>\n",
       "      <th>4</th>\n",
       "      <td>5</td>\n",
       "      <td>1</td>\n",
       "      <td>0</td>\n",
       "      <td>1</td>\n",
       "      <td>0</td>\n",
       "      <td>1</td>\n",
       "      <td>0</td>\n",
       "      <td>0</td>\n",
       "      <td>1</td>\n",
       "      <td>0</td>\n",
       "      <td>...</td>\n",
       "      <td>1</td>\n",
       "      <td>1</td>\n",
       "      <td>1</td>\n",
       "      <td>0</td>\n",
       "      <td>0</td>\n",
       "      <td>0</td>\n",
       "      <td>1</td>\n",
       "      <td>2</td>\n",
       "      <td>Adult</td>\n",
       "      <td>fever</td>\n",
       "    </tr>\n",
       "  </tbody>\n",
       "</table>\n",
       "<p>5 rows × 21 columns</p>\n",
       "</div>"
      ],
      "text/plain": [
       "   Sno  gender  Dry Cough  sour throat  weakness  breathing problem  \\\n",
       "0    1       1          0            0         0                  0   \n",
       "1    2       1          1            0         0                  0   \n",
       "2    3       0          1            1         1                  1   \n",
       "3    4       0          0            0         0                  0   \n",
       "4    5       1          0            1         0                  1   \n",
       "\n",
       "   drowsiness  pain in chest  travel history to infected countries  diabetes  \\\n",
       "0           0              0                                     0         0   \n",
       "1           0              0                                     0         0   \n",
       "2           1              1                                     0         0   \n",
       "3           1              1                                     1         1   \n",
       "4           0              0                                     1         0   \n",
       "\n",
       "   ...  lung disease  stroke or reduced immunity  symptoms progressed  \\\n",
       "0  ...             0                           0                    0   \n",
       "1  ...             0                           0                    0   \n",
       "2  ...             0                           0                    0   \n",
       "3  ...             0                           0                    1   \n",
       "4  ...             1                           1                    1   \n",
       "\n",
       "   high blood pressue  kidney disease  change in appetide  \\\n",
       "0                   0               0                   0   \n",
       "1                   0               0                   0   \n",
       "2                   0               0                   1   \n",
       "3                   1               0                   1   \n",
       "4                   0               0                   0   \n",
       "\n",
       "   Loss of sense of smell  Corona result      Age        Temp  \n",
       "0                       0              0    Adult       fever  \n",
       "1                       0              0     Teen       fever  \n",
       "2                       0              1  Old Age  high fever  \n",
       "3                       0              2    Adult       fever  \n",
       "4                       1              2    Adult       fever  \n",
       "\n",
       "[5 rows x 21 columns]"
      ]
     },
     "execution_count": 5,
     "metadata": {},
     "output_type": "execute_result"
    }
   ],
   "source": [
    "#categorizing the continuous variables age and temperature\n",
    "bins= [0,10,20,55,100]\n",
    "labels = ['Kids','Teen','Adult','Old Age']\n",
    "Age = pd.cut(c19['age'], bins=bins, labels=labels, right=False)\n",
    "c19[\"Age\"]=Age\n",
    "c19=c19.drop(['age'],axis=1)\n",
    "\n",
    "bins= [96,98.6,102,110]\n",
    "labels = ['normal','fever','high fever']\n",
    "Temp = pd.cut(c19['body temperature'], bins=bins, labels=labels, right=False)\n",
    "c19[\"Temp\"]=Temp\n",
    "c19=c19.drop(['body temperature'],axis=1)\n",
    "\n",
    "c19.head()"
   ]
  },
  {
   "cell_type": "code",
   "execution_count": 6,
   "metadata": {},
   "outputs": [
    {
     "name": "stdout",
     "output_type": "stream",
     "text": [
      "Adult      104\n",
      "Old Age     16\n",
      "Teen         7\n",
      "Kids         0\n",
      "Name: Age, dtype: int64\n",
      "fever         85\n",
      "high fever    29\n",
      "normal        13\n",
      "Name: Temp, dtype: int64\n"
     ]
    }
   ],
   "source": [
    "print(c19['Age'].value_counts())\n",
    "print(c19['Temp'].value_counts())"
   ]
  },
  {
   "cell_type": "code",
   "execution_count": 7,
   "metadata": {},
   "outputs": [
    {
     "name": "stdout",
     "output_type": "stream",
     "text": [
      "0    104\n",
      "1     16\n",
      "2      7\n",
      "Name: Age, dtype: int64\n",
      "0    85\n",
      "1    29\n",
      "2    13\n",
      "Name: Temp, dtype: int64\n"
     ]
    }
   ],
   "source": [
    "#applying label encoding\n",
    "from sklearn.preprocessing import LabelEncoder\n",
    "\n",
    "le = LabelEncoder()\n",
    "c19['Age'] = le.fit_transform(c19['Age'])\n",
    "c19['Temp'] = le.fit_transform(c19['Temp'])\n",
    "\n",
    "print(c19['Age'].value_counts())\n",
    "print(c19['Temp'].value_counts())"
   ]
  },
  {
   "cell_type": "code",
   "execution_count": 8,
   "metadata": {},
   "outputs": [],
   "source": [
    "#splitting the inportant features to x and y\n",
    "\n",
    "X =c19.drop(['Corona result' , 'Sno' , 'heart disease','kidney disease' , 'change in appetide' , 'lung disease' , 'weakness' ] , axis=1)\n",
    "y = c19['Corona result']"
   ]
  },
  {
   "cell_type": "code",
   "execution_count": 154,
   "metadata": {},
   "outputs": [
    {
     "name": "stdout",
     "output_type": "stream",
     "text": [
      "(101, 14)\n",
      "(101,)\n",
      "(26, 14)\n",
      "(26,)\n"
     ]
    }
   ],
   "source": [
    "#train and test split\n",
    "from sklearn.model_selection import train_test_split\n",
    "x_train , x_test , y_train , y_test = train_test_split(X , y , random_state = 1 , test_size = 0.20)\n",
    "print(x_train.shape)\n",
    "print(y_train.shape)\n",
    "print(x_test.shape)\n",
    "print(y_test.shape)"
   ]
  },
  {
   "cell_type": "markdown",
   "metadata": {},
   "source": [
    "# SVC "
   ]
  },
  {
   "cell_type": "code",
   "execution_count": 155,
   "metadata": {},
   "outputs": [],
   "source": [
    "from sklearn.svm import SVC\n",
    "\n",
    "svc = SVC(C=1.0,\n",
    "            kernel='rbf',\n",
    "            degree=3,\n",
    "            gamma='auto',\n",
    "            coef0=0.0,\n",
    "            shrinking=True,\n",
    "            probability=False,\n",
    "            tol=0.001,\n",
    "            cache_size=200,\n",
    "            class_weight=None,\n",
    "            verbose=False,\n",
    "            max_iter=-1,\n",
    "            decision_function_shape='ovo',\n",
    "            break_ties=False,\n",
    "            random_state=None,)"
   ]
  },
  {
   "cell_type": "code",
   "execution_count": 156,
   "metadata": {},
   "outputs": [
    {
     "data": {
      "text/plain": [
       "SVC(C=1.0, break_ties=False, cache_size=200, class_weight=None, coef0=0.0,\n",
       "    decision_function_shape='ovo', degree=3, gamma='auto', kernel='rbf',\n",
       "    max_iter=-1, probability=False, random_state=None, shrinking=True,\n",
       "    tol=0.001, verbose=False)"
      ]
     },
     "execution_count": 156,
     "metadata": {},
     "output_type": "execute_result"
    }
   ],
   "source": [
    "svc.fit(x_train , y_train)"
   ]
  },
  {
   "cell_type": "code",
   "execution_count": 157,
   "metadata": {},
   "outputs": [],
   "source": [
    "import matplotlib.pyplot as plt\n",
    "%matplotlib inline"
   ]
  },
  {
   "cell_type": "code",
   "execution_count": 158,
   "metadata": {},
   "outputs": [
    {
     "data": {
      "image/png": "[encoded data removed]",
      "text/plain": [
       "<Figure size 432x288 with 1 Axes>"
      ]
     },
     "metadata": {
      "needs_background": "light"
     },
     "output_type": "display_data"
    }
   ],
   "source": [
    "plt.scatter(range(101) , y_train , c = y_train , cmap ='magma',marker = '+' )\n",
    "plt.scatter(range(101) , svc.predict(x_train) , c = y_train , cmap ='inferno',marker = 'o' )\n",
    "plt.ylabel('CORONA RESULT')\n",
    "plt.title('Original Vs Predicted Train Data')\n",
    "plt.show()"
   ]
  },
  {
   "cell_type": "code",
   "execution_count": 159,
   "metadata": {},
   "outputs": [
    {
     "name": "stdout",
     "output_type": "stream",
     "text": [
      "31\n"
     ]
    }
   ],
   "source": [
    "#let us see how many values are not correctly predicted in trained data  \n",
    "print((svc.predict(x_train)!= y_train).sum())"
   ]
  },
  {
   "cell_type": "code",
   "execution_count": 160,
   "metadata": {},
   "outputs": [
    {
     "name": "stdout",
     "output_type": "stream",
     "text": [
      "[[18  8  0]\n",
      " [ 3 50  0]\n",
      " [ 0 20  2]]\n",
      "0.693069306930693\n"
     ]
    }
   ],
   "source": [
    "from sklearn.metrics import confusion_matrix , accuracy_score\n",
    "print(confusion_matrix(y_train , svc.predict(x_train)))\n",
    "print(accuracy_score(y_train , svc.predict(x_train)))"
   ]
  },
  {
   "cell_type": "code",
   "execution_count": 161,
   "metadata": {},
   "outputs": [
    {
     "data": {
      "image/png": "[encoded data removed]",
      "text/plain": [
       "<Figure size 432x288 with 1 Axes>"
      ]
     },
     "metadata": {
      "needs_background": "light"
     },
     "output_type": "display_data"
    }
   ],
   "source": [
    "#Now let us see the prediction on testing data\n",
    "plt.scatter(range(26) , y_test , c = y_test , cmap ='magma',marker = '+' )\n",
    "plt.scatter(range(26) , svc.predict(x_test) , c = y_test , cmap ='inferno',marker = 'o' )\n",
    "plt.ylabel('CORONA RESULT')\n",
    "plt.title('Original Vs Predicted Test Data')\n",
    "plt.show()"
   ]
  },
  {
   "cell_type": "code",
   "execution_count": 162,
   "metadata": {},
   "outputs": [
    {
     "name": "stdout",
     "output_type": "stream",
     "text": [
      "6\n"
     ]
    }
   ],
   "source": [
    "#let us see how many values are not correctly predicted in test data  \n",
    "print((svc.predict(x_test)!= y_test).sum())"
   ]
  },
  {
   "cell_type": "code",
   "execution_count": 163,
   "metadata": {},
   "outputs": [
    {
     "name": "stdout",
     "output_type": "stream",
     "text": [
      "[[ 4  3  0]\n",
      " [ 0 16  0]\n",
      " [ 0  3  0]]\n",
      "0.7692307692307693\n"
     ]
    }
   ],
   "source": [
    "print(confusion_matrix(y_test , svc.predict(x_test)))\n",
    "print(accuracy_score(y_test , svc.predict(x_test)))"
   ]
  },
  {
   "cell_type": "markdown",
   "metadata": {},
   "source": [
    "# Naive Bayes Classifier"
   ]
  },
  {
   "cell_type": "code",
   "execution_count": 164,
   "metadata": {},
   "outputs": [],
   "source": [
    "from sklearn.naive_bayes import GaussianNB\n",
    "\n",
    "nb = GaussianNB()"
   ]
  },
  {
   "cell_type": "code",
   "execution_count": 165,
   "metadata": {},
   "outputs": [
    {
     "data": {
      "text/plain": [
       "GaussianNB(priors=None, var_smoothing=1e-09)"
      ]
     },
     "execution_count": 165,
     "metadata": {},
     "output_type": "execute_result"
    }
   ],
   "source": [
    "nb.fit(x_train , y_train )"
   ]
  },
  {
   "cell_type": "code",
   "execution_count": 173,
   "metadata": {},
   "outputs": [
    {
     "data": {
      "image/png": "[encoded data removed]",
      "text/plain": [
       "<Figure size 432x288 with 1 Axes>"
      ]
     },
     "metadata": {
      "needs_background": "light"
     },
     "output_type": "display_data"
    }
   ],
   "source": [
    "plt.scatter(range(101) , y_train , c = y_train , cmap ='viridis',marker = '+' )\n",
    "plt.scatter(range(101) , nb.predict(x_train) , c = y_train , cmap ='cividis',marker = 'o' )\n",
    "plt.ylabel('CORONA RESULT')\n",
    "plt.title('Original Vs Predicted Train Data')\n",
    "plt.show()"
   ]
  },
  {
   "cell_type": "code",
   "execution_count": 167,
   "metadata": {},
   "outputs": [
    {
     "name": "stdout",
     "output_type": "stream",
     "text": [
      "25\n"
     ]
    }
   ],
   "source": [
    "#let us see how many values are not correctly predicted in trained data  \n",
    "print((nb.predict(x_train)!= y_train).sum())"
   ]
  },
  {
   "cell_type": "code",
   "execution_count": 169,
   "metadata": {},
   "outputs": [
    {
     "name": "stdout",
     "output_type": "stream",
     "text": [
      "[[22  4  0]\n",
      " [ 7 40  6]\n",
      " [ 0  8 14]]\n",
      "0.7524752475247525\n"
     ]
    }
   ],
   "source": [
    "from sklearn.metrics import confusion_matrix , accuracy_score\n",
    "print(confusion_matrix(y_train , nb.predict(x_train)))\n",
    "print(accuracy_score(y_train , nb.predict(x_train)))"
   ]
  },
  {
   "cell_type": "code",
   "execution_count": 172,
   "metadata": {},
   "outputs": [
    {
     "data": {
      "image/png": "[encoded data removed]",
      "text/plain": [
       "<Figure size 432x288 with 1 Axes>"
      ]
     },
     "metadata": {
      "needs_background": "light"
     },
     "output_type": "display_data"
    }
   ],
   "source": [
    "#Now let us see the prediction on testing data\n",
    "plt.scatter(range(26) , y_test , c = y_test , cmap ='viridis',marker = '+' )\n",
    "plt.scatter(range(26) , nb.predict(x_test) , c = y_test , cmap ='cividis',marker = 'o' )\n",
    "plt.ylabel('CORONA RESULT')\n",
    "plt.title('Original Vs Predicted Test Data')\n",
    "plt.show()"
   ]
  },
  {
   "cell_type": "code",
   "execution_count": 174,
   "metadata": {},
   "outputs": [
    {
     "name": "stdout",
     "output_type": "stream",
     "text": [
      "6\n"
     ]
    }
   ],
   "source": [
    "#let us see how many values are not correctly predicted in test data  \n",
    "print((nb.predict(x_test)!= y_test).sum())"
   ]
  },
  {
   "cell_type": "code",
   "execution_count": 175,
   "metadata": {},
   "outputs": [
    {
     "name": "stdout",
     "output_type": "stream",
     "text": [
      "[[ 4  3  0]\n",
      " [ 0 15  1]\n",
      " [ 0  2  1]]\n",
      "0.7692307692307693\n"
     ]
    }
   ],
   "source": [
    "print(confusion_matrix(y_test , nb.predict(x_test)))\n",
    "print(accuracy_score(y_test , nb.predict(x_test)))"
   ]
  },
  {
   "cell_type": "code",
   "execution_count": null,
   "metadata": {},
   "outputs": [],
   "source": []
  }
 ],
 "metadata": {
  "kernelspec": {
   "display_name": "Python 3",
   "language": "python",
   "name": "python3"
  },
  "language_info": {
   "codemirror_mode": {
    "name": "ipython",
    "version": 3
   },
   "file_extension": ".py",
   "mimetype": "text/x-python",
   "name": "python",
   "nbconvert_exporter": "python",
   "pygments_lexer": "ipython3",
   "version": "3.7.6"
  }
 },
 "nbformat": 4,
 "nbformat_minor": 4
}
